{
 "cells": [
  {
   "cell_type": "code",
   "execution_count": 1,
   "id": "10a41e44-88c7-44eb-90d9-9092f72a31b4",
   "metadata": {},
   "outputs": [],
   "source": [
    "input_file = \"shakespeare_all_work.txt\"\n",
    "vocab_file = \"vocab.txt\"\n",
    "op_train_file = \"train_split.txt\"\n",
    "op_val_file = \"val_split.txt\""
   ]
  },
  {
   "cell_type": "code",
   "execution_count": 2,
   "id": "45f15cbf-985b-4a50-97f6-cb647a155e86",
   "metadata": {},
   "outputs": [],
   "source": [
    "import random\n",
    "\n",
    "def split_data(input_file, train_ratio=0.9):\n",
    "    with open(input_file, 'r', encoding='utf-8') as file:\n",
    "        lines = file.readlines()\n",
    "\n",
    "    total_lines = len(lines)\n",
    "    train_size = int(total_lines * train_ratio)\n",
    "\n",
    "    random.shuffle(lines)\n",
    "\n",
    "    train_data = lines[:train_size]\n",
    "    val_data = lines[train_size:]\n",
    "\n",
    "    return train_data, val_data"
   ]
  },
  {
   "cell_type": "code",
   "execution_count": 5,
   "id": "5faf9502-2039-4a55-b988-030101e23fed",
   "metadata": {},
   "outputs": [],
   "source": [
    "train_data, val_data = split_data(input_file)\n",
    "\n",
    "# Save the training data\n",
    "with open(op_train_file, 'w', encoding='utf-8') as outfile:\n",
    "    outfile.writelines(train_data)\n",
    "\n",
    "# Save the validation data\n",
    "with open(op_val_file, 'w', encoding='utf-8') as outfile:\n",
    "    outfile.writelines(val_data)"
   ]
  },
  {
   "cell_type": "code",
   "execution_count": 6,
   "id": "abd2b7b0-1ecf-494b-a501-efb4d038ca0f",
   "metadata": {},
   "outputs": [],
   "source": [
    "vocab = set()\n",
    "with open(input_file, 'rt', encoding='utf-8') as infile:\n",
    "    text = infile.read()\n",
    "    chars = set(text)\n",
    "    vocab.update(chars)\n",
    "\n",
    "with open(vocab_file, 'w', encoding='utf-8') as vfile:\n",
    "    for char in vocab:\n",
    "        vfile.write(char + '\\n')\n"
   ]
  },
  {
   "cell_type": "code",
   "execution_count": null,
   "id": "4e0b8009-215f-4f82-8fa4-1d2caf6d3ea0",
   "metadata": {},
   "outputs": [],
   "source": []
  }
 ],
 "metadata": {
  "kernelspec": {
   "display_name": "cuda-gpt",
   "language": "python",
   "name": "cuda"
  },
  "language_info": {
   "codemirror_mode": {
    "name": "ipython",
    "version": 3
   },
   "file_extension": ".py",
   "mimetype": "text/x-python",
   "name": "python",
   "nbconvert_exporter": "python",
   "pygments_lexer": "ipython3",
   "version": "3.9.13"
  }
 },
 "nbformat": 4,
 "nbformat_minor": 5
}
